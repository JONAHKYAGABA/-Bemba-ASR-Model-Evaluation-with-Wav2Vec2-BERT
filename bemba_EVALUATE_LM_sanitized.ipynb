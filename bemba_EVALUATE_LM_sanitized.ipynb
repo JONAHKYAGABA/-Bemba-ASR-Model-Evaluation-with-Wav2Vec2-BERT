{
 "cells": [
  {
   "cell_type": "code",
   "execution_count": null,
   "id": "2e417122-a6d5-48f1-97fe-2c4efb806578",
   "metadata": {
    "id": "2e417122-a6d5-48f1-97fe-2c4efb806578",
    "outputId": "0b060d10-73f1-40c1-c50e-8c2b8283520b"
   },
   "outputs": [
    {
     "name": "stdout",
     "output_type": "stream",
     "text": [
      "Fri Oct 11 15:36:48 2024       \n",
      "+-----------------------------------------------------------------------------------------+\n",
      "| NVIDIA-SMI 550.90.07              Driver Version: 550.90.07      CUDA Version: 12.4     |\n",
      "|-----------------------------------------+------------------------+----------------------+\n",
      "| GPU  Name                 Persistence-M | Bus-Id          Disp.A | Volatile Uncorr. ECC |\n",
      "| Fan  Temp   Perf          Pwr:Usage/Cap |           Memory-Usage | GPU-Util  Compute M. |\n",
      "|                                         |                        |               MIG M. |\n",
      "|=========================================+========================+======================|\n",
      "|   0  NVIDIA A40                     On  |   00000000:CE:00.0 Off |                    0 |\n",
      "|  0%   37C    P0             76W /  300W |   25853MiB /  46068MiB |      0%      Default |\n",
      "|                                         |                        |                  N/A |\n",
      "+-----------------------------------------+------------------------+----------------------+\n",
      "                                                                                         \n",
      "+-----------------------------------------------------------------------------------------+\n",
      "| Processes:                                                                              |\n",
      "|  GPU   GI   CI        PID   Type   Process name                              GPU Memory |\n",
      "|        ID   ID                                                               Usage      |\n",
      "|=========================================================================================|\n",
      "+-----------------------------------------------------------------------------------------+\n"
     ]
    }
   ],
   "source": [
    "gpu_info = !nvidia-smi\n",
    "gpu_info = '\\n'.join(gpu_info)\n",
    "if gpu_info.find('failed') >= 0:\n",
    "  print('Not connected to a GPU')\n",
    "else:\n",
    "  print(gpu_info)"
   ]
  },
  {
   "cell_type": "code",
   "execution_count": null,
   "id": "327196ce-5e76-478d-94e9-b9820580d0b0",
   "metadata": {
    "id": "327196ce-5e76-478d-94e9-b9820580d0b0",
    "scrolled": true
   },
   "outputs": [],
   "source": [
    "%%capture\n",
    "!pip install datasets transformers huggingface_hub torchaudio librosa jiwer\n",
    "!apt install git-lfs\n",
    "!pip install accelerate -U\n",
    "!pip install nvidia-smi\n",
    "!pip install transformers[torch]\n",
    "!pip install wandb\n",
    "!pip install matplotlib seaborn\n",
    "!pip install pyctcdecode\n",
    "!pip install kenlm\n",
    "!pip install evaluate\n",
    "import torch\n",
    "import random\n",
    "import pandas as pd\n",
    "from datasets import load_dataset, Audio\n",
    "from IPython.display import display, HTML, Audio as IPythonAudio\n",
    "from transformers import Wav2Vec2ForCTC, Wav2Vec2Processor, Trainer, TrainingArguments\n",
    "import re\n",
    "import json\n",
    "from collections import Counter\n",
    "import seaborn as sns\n",
    "import numpy as np\n",
    "import matplotlib.pyplot as plt\n",
    "import wandb\n",
    "import os\n",
    "from typing import Any, Dict, List, Union\n",
    "from dataclasses import dataclass\n",
    "from huggingface_hub import HfFolder\n",
    "from transformers import Wav2Vec2ProcessorWithLM, Wav2Vec2BertForCTC\n",
    "import torch\n",
    "from transformers.pipelines import pipeline\n",
    "from datasets import load_dataset\n",
    "import pandas as pd\n",
    "import evaluate\n",
    "import random"
   ]
  },
  {
   "cell_type": "code",
   "execution_count": null,
   "id": "e860db76-4cfe-4ad0-b5fb-829a21d3fb3a",
   "metadata": {
    "id": "e860db76-4cfe-4ad0-b5fb-829a21d3fb3a"
   },
   "outputs": [],
   "source": [
    "from transformers import pipeline, Wav2Vec2ProcessorWithLM, AutoFeatureExtractor, Wav2Vec2BertForCTC, Wav2Vec2BertProcessor\n",
    "from transformers.pipelines.pt_utils import KeyDataset\n",
    "from tqdm import tqdm\n",
    "import torch\n",
    "import unicodedata\n",
    "import re\n",
    "token = os.getenv(\"HF_TOKEN\")  # Replaced secret with secure environment variableCGFhnfQzLEzVmfLlIZhDwYuXAgomjoTtmQ\"\n",
    "HfFolder.save_token(token)"
   ]
  },
  {
   "cell_type": "code",
   "execution_count": null,
   "id": "af356b51-0739-4e5f-a182-95a7b4300be7",
   "metadata": {
    "id": "af356b51-0739-4e5f-a182-95a7b4300be7",
    "outputId": "7b8db87f-3e3e-46ac-bfd5-533c082791d9"
   },
   "outputs": [
    {
     "name": "stdout",
     "output_type": "stream",
     "text": [
      "Dataset({\n",
      "    features: ['audio', 'transcription', 'duration', 'source'],\n",
      "    num_rows: 2351\n",
      "})\n"
     ]
    }
   ],
   "source": [
    "from datasets import load_dataset, DatasetDict\n",
    "\n",
    "test5hr = load_dataset(\"Beijuka/Bemba_test_5hr\")['test']\n",
    "test5hr = test5hr.rename_column('sentence', 'transcription')\n",
    "print(test5hr)"
   ]
  },
  {
   "cell_type": "code",
   "execution_count": null,
   "id": "3a93b34f-a961-46b7-92f7-24e3921d0ba0",
   "metadata": {
    "id": "3a93b34f-a961-46b7-92f7-24e3921d0ba0"
   },
   "outputs": [],
   "source": [
    "import unicodedata\n",
    "import re\n",
    "def preprocess_text(batch):\n",
    "    batch['transcription'] = [text.lower() for text in batch['transcription']]\n",
    "    batch['transcription'] = [unicodedata.normalize('NFKC', text) for text in batch['transcription']]\n",
    "    batch['transcription'] = [re.sub(r'[\\’\\ʻ\\ʼ\\ʽ\\‘\\']', '', text) for text in batch['transcription']]\n",
    "    batch['transcription'] = [re.sub(r'[^\\w\\s\\']', '', text) for text in batch['transcription']]\n",
    "    batch['transcription'] = [re.sub(r'_', ' ', text) for text in batch['transcription']]\n",
    "    batch['transcription'] = [' '.join(text.split()) for text in batch['transcription']]\n",
    "    return batch\n",
    "\n",
    "test5hr = test5hr.map(preprocess_text, batched=True)"
   ]
  },
  {
   "cell_type": "code",
   "execution_count": null,
   "id": "191bbbc5-0296-4f32-a5b9-d7d7ea0fda9d",
   "metadata": {
    "colab": {
     "referenced_widgets": [
      "99252c0309a44017ad318d5944602560"
     ]
    },
    "id": "191bbbc5-0296-4f32-a5b9-d7d7ea0fda9d",
    "outputId": "0152fbd2-59b8-4432-f186-9324b32bdc70"
   },
   "outputs": [
    {
     "data": {
      "application/vnd.jupyter.widget-view+json": {
       "model_id": "99252c0309a44017ad318d5944602560",
       "version_major": 2,
       "version_minor": 0
      },
      "text/plain": [
       "Map:   0%|          | 0/2351 [00:00<?, ? examples/s]"
      ]
     },
     "metadata": {},
     "output_type": "display_data"
    },
    {
     "data": {
      "text/plain": [
       "{' ': 0,\n",
       " 'a': 1,\n",
       " 'b': 2,\n",
       " 'c': 3,\n",
       " 'd': 4,\n",
       " 'e': 5,\n",
       " 'f': 6,\n",
       " 'g': 7,\n",
       " 'h': 8,\n",
       " 'i': 9,\n",
       " 'j': 10,\n",
       " 'k': 11,\n",
       " 'l': 12,\n",
       " 'm': 13,\n",
       " 'n': 14,\n",
       " 'o': 15,\n",
       " 'p': 16,\n",
       " 'q': 17,\n",
       " 'r': 18,\n",
       " 's': 19,\n",
       " 't': 20,\n",
       " 'u': 21,\n",
       " 'v': 22,\n",
       " 'w': 23,\n",
       " 'y': 24,\n",
       " 'z': 25}"
      ]
     },
     "execution_count": 6,
     "metadata": {},
     "output_type": "execute_result"
    }
   ],
   "source": [
    "def extract_all_chars(batch):\n",
    "    all_text = \" \".join(batch[\"transcription\"])\n",
    "    vocab = list(set(all_text))\n",
    "    return {\"vocab\": [vocab], \"all_text\": [all_text]}\n",
    "vocab_test = test5hr.map(extract_all_chars, batched=True, batch_size=-1, keep_in_memory=True, remove_columns=test5hr.column_names)\n",
    "vocab_list = list(set(vocab_test[\"vocab\"][0]))\n",
    "vocab_dict = {v: k for k, v in enumerate(sorted(vocab_list))}\n",
    "vocab_dict"
   ]
  },
  {
   "cell_type": "code",
   "execution_count": null,
   "id": "78c674ce-1ccd-40b9-bcb2-b73b266eeab9",
   "metadata": {
    "id": "78c674ce-1ccd-40b9-bcb2-b73b266eeab9"
   },
   "outputs": [],
   "source": [
    "model_ids = [\n",
    "    \"asr-africa/w2v-bert-2.0_BIG-C_corpus_Bemba_1hr_v1\",\n",
    "    \"asr-africa/W2V2_Bert_BIG-C_BEMBA_5hr_v1\",\n",
    "    \"asr-africa/W2V2_Bert_BIG-C_BEMBA_10hr_v1\",\n",
    "    \"asr-africa/W2V2_Bert_BIG_C_Bemba_20hr_v1\",\n",
    "    \"asr-africa/W2V2_Bert_BIG_C_Bemba_50hr_v1\",\n",
    "    \"asr-africa/W2V2_Bert_BIG_C_Bemba_100hr_v1\"\n",
    "]"
   ]
  },
  {
   "cell_type": "code",
   "execution_count": null,
   "id": "1f3df87b-f8be-4bed-9425-23a55c56aa8a",
   "metadata": {
    "id": "1f3df87b-f8be-4bed-9425-23a55c56aa8a",
    "outputId": "91d324ca-bc44-47a0-f22d-1e7054d2c98f"
   },
   "outputs": [
    {
     "data": {
      "text/plain": [
       "device(type='cuda')"
      ]
     },
     "execution_count": 8,
     "metadata": {},
     "output_type": "execute_result"
    }
   ],
   "source": [
    "device = torch.device('cuda' if torch.cuda.is_available() else 'cpu')\n",
    "wer_metric = evaluate.load(\"wer\")\n",
    "cer_metric = evaluate.load(\"cer\")\n",
    "device"
   ]
  },
  {
   "cell_type": "code",
   "execution_count": null,
   "id": "241cc55b-3fd5-46c4-adcf-4a836f96173c",
   "metadata": {
    "colab": {
     "referenced_widgets": [
      "30bf6beef4e84833bb719e8853f8f930",
      "9ad6edd6de5a4fe2a254dbe83448d5d7",
      "6e6d987cde804f7eb1434bf11b572ef9",
      "8cdaeea6366f4c4b88a00de5296f25e5",
      "679b3daa1f2b45a88acc698e636c2a5f",
      "f9b1dea7e514404c97dad23b86f9b91a",
      "6b227cd504c444acab2403db4ee78227",
      "0016b5332fd2456cbd3e48072c0ba49f",
      "cb20c3ba14b34be9a7d1734d0d08faec",
      "d02a4e84dd51480287e2ae4b6745736e",
      "b9a203794fa443138621113944fcda29",
      "bed9e764c8464267b7e5c263fa215a22",
      "f055b90551e3413f83dcd6f6ae254a82",
      "b48ac9c88c3d4a8f939b9a545b40753b",
      "6430439f27764fc3b0614f68e9dac767",
      "5ee64ef116cb4d5cbba6cee0e4ff2ef8",
      "189f3ceb77dd4ad39836a62d88790b5e",
      "d2be3a0c93c04a839353f1673df64c86",
      "26a9c792a86c43a091e13228fa587151",
      "8d6cb480138f4fc596537bda368d14d6",
      "c7cd243621ed4d15a23cee34763a596f",
      "872744ac9674427b924584ffa116b860",
      "74a4feb8ed20449eb1ea5142cce6af4a",
      "88ab99ee29c4437ea7775a4bcbf24ef4",
      "ff6862a082684b47b81bca39bf68ec6c",
      "df0a757fa9fd4f41aca3b7d567fb632c",
      "1f348843be894d63bae6c37792bd0dd5",
      "66bfd367cf2b4444a85012dc71f4dd63",
      "36e817dd989142ef8a13b4a33af58c4f",
      "b37465940d204073bc5862a568e3b378"
     ]
    },
    "id": "241cc55b-3fd5-46c4-adcf-4a836f96173c",
    "outputId": "17e0dbb4-aa41-4d60-dd67-35cea7a23547"
   },
   "outputs": [
    {
     "data": {
      "application/vnd.jupyter.widget-view+json": {
       "model_id": "30bf6beef4e84833bb719e8853f8f930",
       "version_major": 2,
       "version_minor": 0
      },
      "text/plain": [
       "Fetching 4 files:   0%|          | 0/4 [00:00<?, ?it/s]"
      ]
     },
     "metadata": {},
     "output_type": "display_data"
    },
    {
     "data": {
      "application/vnd.jupyter.widget-view+json": {
       "model_id": "9ad6edd6de5a4fe2a254dbe83448d5d7",
       "version_major": 2,
       "version_minor": 0
      },
      "text/plain": [
       "alphabet.json:   0%|          | 0.00/193 [00:00<?, ?B/s]"
      ]
     },
     "metadata": {},
     "output_type": "display_data"
    },
    {
     "data": {
      "application/vnd.jupyter.widget-view+json": {
       "model_id": "6e6d987cde804f7eb1434bf11b572ef9",
       "version_major": 2,
       "version_minor": 0
      },
      "text/plain": [
       "language_model/attrs.json:   0%|          | 0.00/78.0 [00:00<?, ?B/s]"
      ]
     },
     "metadata": {},
     "output_type": "display_data"
    },
    {
     "data": {
      "application/vnd.jupyter.widget-view+json": {
       "model_id": "8cdaeea6366f4c4b88a00de5296f25e5",
       "version_major": 2,
       "version_minor": 0
      },
      "text/plain": [
       "language_model/unigrams.txt:   0%|          | 0.00/970k [00:00<?, ?B/s]"
      ]
     },
     "metadata": {},
     "output_type": "display_data"
    },
    {
     "data": {
      "application/vnd.jupyter.widget-view+json": {
       "model_id": "679b3daa1f2b45a88acc698e636c2a5f",
       "version_major": 2,
       "version_minor": 0
      },
      "text/plain": [
       "5gram.bin:   0%|          | 0.00/67.3M [00:00<?, ?B/s]"
      ]
     },
     "metadata": {},
     "output_type": "display_data"
    },
    {
     "name": "stderr",
     "output_type": "stream",
     "text": [
      "Processing with asr-africa/w2v-bert-2.0_BIG-C_corpus_Bemba_1hr_v1: 100%|██████████| 2351/2351 [08:13<00:00,  4.76it/s]\n"
     ]
    },
    {
     "name": "stdout",
     "output_type": "stream",
     "text": [
      "Calculated overall WER: 0.516725276610344\n",
      "Calculated overall CER: 0.12299069908507304\n",
      "\n",
      "Average WER and CER by Source:\n",
      "           Source       WER       CER\n",
      "0       BigC_test  0.663025  0.172341\n",
      "1  csikasote_test  0.437629  0.091148\n",
      "Results saved to asr-africa_w2v-bert-2.0_BIG-C_corpus_Bemba_1hr_v1.csv\n"
     ]
    },
    {
     "data": {
      "application/vnd.jupyter.widget-view+json": {
       "model_id": "f9b1dea7e514404c97dad23b86f9b91a",
       "version_major": 2,
       "version_minor": 0
      },
      "text/plain": [
       "Fetching 4 files:   0%|          | 0/4 [00:00<?, ?it/s]"
      ]
     },
     "metadata": {},
     "output_type": "display_data"
    },
    {
     "data": {
      "application/vnd.jupyter.widget-view+json": {
       "model_id": "6b227cd504c444acab2403db4ee78227",
       "version_major": 2,
       "version_minor": 0
      },
      "text/plain": [
       "language_model/attrs.json:   0%|          | 0.00/78.0 [00:00<?, ?B/s]"
      ]
     },
     "metadata": {},
     "output_type": "display_data"
    },
    {
     "data": {
      "application/vnd.jupyter.widget-view+json": {
       "model_id": "0016b5332fd2456cbd3e48072c0ba49f",
       "version_major": 2,
       "version_minor": 0
      },
      "text/plain": [
       "language_model/unigrams.txt:   0%|          | 0.00/970k [00:00<?, ?B/s]"
      ]
     },
     "metadata": {},
     "output_type": "display_data"
    },
    {
     "data": {
      "application/vnd.jupyter.widget-view+json": {
       "model_id": "cb20c3ba14b34be9a7d1734d0d08faec",
       "version_major": 2,
       "version_minor": 0
      },
      "text/plain": [
       "alphabet.json:   0%|          | 0.00/193 [00:00<?, ?B/s]"
      ]
     },
     "metadata": {},
     "output_type": "display_data"
    },
    {
     "data": {
      "application/vnd.jupyter.widget-view+json": {
       "model_id": "d02a4e84dd51480287e2ae4b6745736e",
       "version_major": 2,
       "version_minor": 0
      },
      "text/plain": [
       "5gram.bin:   0%|          | 0.00/67.3M [00:00<?, ?B/s]"
      ]
     },
     "metadata": {},
     "output_type": "display_data"
    },
    {
     "name": "stderr",
     "output_type": "stream",
     "text": [
      "Processing with asr-africa/W2V2_Bert_BIG-C_BEMBA_5hr_v1: 100%|██████████| 2351/2351 [07:46<00:00,  5.04it/s]\n"
     ]
    },
    {
     "name": "stdout",
     "output_type": "stream",
     "text": [
      "Calculated overall WER: 0.47182434171026677\n",
      "Calculated overall CER: 0.106448718596775\n",
      "\n",
      "Average WER and CER by Source:\n",
      "           Source       WER       CER\n",
      "0       BigC_test  0.617873  0.152844\n",
      "1  csikasote_test  0.401568  0.086477\n",
      "Results saved to asr-africa_W2V2_Bert_BIG-C_BEMBA_5hr_v1.csv\n"
     ]
    },
    {
     "data": {
      "application/vnd.jupyter.widget-view+json": {
       "model_id": "b9a203794fa443138621113944fcda29",
       "version_major": 2,
       "version_minor": 0
      },
      "text/plain": [
       "Fetching 4 files:   0%|          | 0/4 [00:00<?, ?it/s]"
      ]
     },
     "metadata": {},
     "output_type": "display_data"
    },
    {
     "data": {
      "application/vnd.jupyter.widget-view+json": {
       "model_id": "bed9e764c8464267b7e5c263fa215a22",
       "version_major": 2,
       "version_minor": 0
      },
      "text/plain": [
       "alphabet.json:   0%|          | 0.00/193 [00:00<?, ?B/s]"
      ]
     },
     "metadata": {},
     "output_type": "display_data"
    },
    {
     "data": {
      "application/vnd.jupyter.widget-view+json": {
       "model_id": "f055b90551e3413f83dcd6f6ae254a82",
       "version_major": 2,
       "version_minor": 0
      },
      "text/plain": [
       "language_model/attrs.json:   0%|          | 0.00/78.0 [00:00<?, ?B/s]"
      ]
     },
     "metadata": {},
     "output_type": "display_data"
    },
    {
     "data": {
      "application/vnd.jupyter.widget-view+json": {
       "model_id": "b48ac9c88c3d4a8f939b9a545b40753b",
       "version_major": 2,
       "version_minor": 0
      },
      "text/plain": [
       "language_model/unigrams.txt:   0%|          | 0.00/970k [00:00<?, ?B/s]"
      ]
     },
     "metadata": {},
     "output_type": "display_data"
    },
    {
     "data": {
      "application/vnd.jupyter.widget-view+json": {
       "model_id": "6430439f27764fc3b0614f68e9dac767",
       "version_major": 2,
       "version_minor": 0
      },
      "text/plain": [
       "5gram.bin:   0%|          | 0.00/67.3M [00:00<?, ?B/s]"
      ]
     },
     "metadata": {},
     "output_type": "display_data"
    },
    {
     "name": "stderr",
     "output_type": "stream",
     "text": [
      "Processing with asr-africa/W2V2_Bert_BIG-C_BEMBA_10hr_v1: 100%|██████████| 2351/2351 [08:45<00:00,  4.47it/s]\n"
     ]
    },
    {
     "name": "stdout",
     "output_type": "stream",
     "text": [
      "Calculated overall WER: 0.47984389741830347\n",
      "Calculated overall CER: 0.11631198503765859\n",
      "\n",
      "Average WER and CER by Source:\n",
      "           Source       WER       CER\n",
      "0       BigC_test  0.638619  0.165998\n",
      "1  csikasote_test  0.405946  0.091726\n",
      "Results saved to asr-africa_W2V2_Bert_BIG-C_BEMBA_10hr_v1.csv\n"
     ]
    },
    {
     "data": {
      "application/vnd.jupyter.widget-view+json": {
       "model_id": "5ee64ef116cb4d5cbba6cee0e4ff2ef8",
       "version_major": 2,
       "version_minor": 0
      },
      "text/plain": [
       "Fetching 4 files:   0%|          | 0/4 [00:00<?, ?it/s]"
      ]
     },
     "metadata": {},
     "output_type": "display_data"
    },
    {
     "data": {
      "application/vnd.jupyter.widget-view+json": {
       "model_id": "189f3ceb77dd4ad39836a62d88790b5e",
       "version_major": 2,
       "version_minor": 0
      },
      "text/plain": [
       "language_model/attrs.json:   0%|          | 0.00/78.0 [00:00<?, ?B/s]"
      ]
     },
     "metadata": {},
     "output_type": "display_data"
    },
    {
     "data": {
      "application/vnd.jupyter.widget-view+json": {
       "model_id": "d2be3a0c93c04a839353f1673df64c86",
       "version_major": 2,
       "version_minor": 0
      },
      "text/plain": [
       "language_model/unigrams.txt:   0%|          | 0.00/970k [00:00<?, ?B/s]"
      ]
     },
     "metadata": {},
     "output_type": "display_data"
    },
    {
     "data": {
      "application/vnd.jupyter.widget-view+json": {
       "model_id": "26a9c792a86c43a091e13228fa587151",
       "version_major": 2,
       "version_minor": 0
      },
      "text/plain": [
       "alphabet.json:   0%|          | 0.00/193 [00:00<?, ?B/s]"
      ]
     },
     "metadata": {},
     "output_type": "display_data"
    },
    {
     "data": {
      "application/vnd.jupyter.widget-view+json": {
       "model_id": "8d6cb480138f4fc596537bda368d14d6",
       "version_major": 2,
       "version_minor": 0
      },
      "text/plain": [
       "5gram.bin:   0%|          | 0.00/67.3M [00:00<?, ?B/s]"
      ]
     },
     "metadata": {},
     "output_type": "display_data"
    },
    {
     "name": "stderr",
     "output_type": "stream",
     "text": [
      "Processing with asr-africa/W2V2_Bert_BIG_C_Bemba_20hr_v1: 100%|██████████| 2351/2351 [07:00<00:00,  5.59it/s]\n"
     ]
    },
    {
     "name": "stdout",
     "output_type": "stream",
     "text": [
      "Calculated overall WER: 0.4266232095376962\n",
      "Calculated overall CER: 0.09776070363443361\n",
      "\n",
      "Average WER and CER by Source:\n",
      "           Source       WER       CER\n",
      "0       BigC_test  0.544849  0.134720\n",
      "1  csikasote_test  0.369669  0.081146\n",
      "Results saved to asr-africa_W2V2_Bert_BIG_C_Bemba_20hr_v1.csv\n"
     ]
    },
    {
     "data": {
      "application/vnd.jupyter.widget-view+json": {
       "model_id": "c7cd243621ed4d15a23cee34763a596f",
       "version_major": 2,
       "version_minor": 0
      },
      "text/plain": [
       "Fetching 4 files:   0%|          | 0/4 [00:00<?, ?it/s]"
      ]
     },
     "metadata": {},
     "output_type": "display_data"
    },
    {
     "data": {
      "application/vnd.jupyter.widget-view+json": {
       "model_id": "872744ac9674427b924584ffa116b860",
       "version_major": 2,
       "version_minor": 0
      },
      "text/plain": [
       "alphabet.json:   0%|          | 0.00/193 [00:00<?, ?B/s]"
      ]
     },
     "metadata": {},
     "output_type": "display_data"
    },
    {
     "data": {
      "application/vnd.jupyter.widget-view+json": {
       "model_id": "74a4feb8ed20449eb1ea5142cce6af4a",
       "version_major": 2,
       "version_minor": 0
      },
      "text/plain": [
       "language_model/attrs.json:   0%|          | 0.00/78.0 [00:00<?, ?B/s]"
      ]
     },
     "metadata": {},
     "output_type": "display_data"
    },
    {
     "data": {
      "application/vnd.jupyter.widget-view+json": {
       "model_id": "88ab99ee29c4437ea7775a4bcbf24ef4",
       "version_major": 2,
       "version_minor": 0
      },
      "text/plain": [
       "language_model/unigrams.txt:   0%|          | 0.00/970k [00:00<?, ?B/s]"
      ]
     },
     "metadata": {},
     "output_type": "display_data"
    },
    {
     "data": {
      "application/vnd.jupyter.widget-view+json": {
       "model_id": "ff6862a082684b47b81bca39bf68ec6c",
       "version_major": 2,
       "version_minor": 0
      },
      "text/plain": [
       "5gram.bin:   0%|          | 0.00/67.3M [00:00<?, ?B/s]"
      ]
     },
     "metadata": {},
     "output_type": "display_data"
    },
    {
     "name": "stderr",
     "output_type": "stream",
     "text": [
      "Processing with asr-africa/W2V2_Bert_BIG_C_Bemba_50hr_v1: 100%|██████████| 2351/2351 [06:57<00:00,  5.64it/s]\n"
     ]
    },
    {
     "name": "stdout",
     "output_type": "stream",
     "text": [
      "Calculated overall WER: 0.40093490007719357\n",
      "Calculated overall CER: 0.09085452155891421\n",
      "\n",
      "Average WER and CER by Source:\n",
      "           Source       WER       CER\n",
      "0       BigC_test  0.495936  0.126799\n",
      "1  csikasote_test  0.354544  0.072540\n",
      "Results saved to asr-africa_W2V2_Bert_BIG_C_Bemba_50hr_v1.csv\n"
     ]
    },
    {
     "data": {
      "application/vnd.jupyter.widget-view+json": {
       "model_id": "df0a757fa9fd4f41aca3b7d567fb632c",
       "version_major": 2,
       "version_minor": 0
      },
      "text/plain": [
       "Fetching 4 files:   0%|          | 0/4 [00:00<?, ?it/s]"
      ]
     },
     "metadata": {},
     "output_type": "display_data"
    },
    {
     "data": {
      "application/vnd.jupyter.widget-view+json": {
       "model_id": "1f348843be894d63bae6c37792bd0dd5",
       "version_major": 2,
       "version_minor": 0
      },
      "text/plain": [
       "language_model/attrs.json:   0%|          | 0.00/78.0 [00:00<?, ?B/s]"
      ]
     },
     "metadata": {},
     "output_type": "display_data"
    },
    {
     "data": {
      "application/vnd.jupyter.widget-view+json": {
       "model_id": "66bfd367cf2b4444a85012dc71f4dd63",
       "version_major": 2,
       "version_minor": 0
      },
      "text/plain": [
       "language_model/unigrams.txt:   0%|          | 0.00/970k [00:00<?, ?B/s]"
      ]
     },
     "metadata": {},
     "output_type": "display_data"
    },
    {
     "data": {
      "application/vnd.jupyter.widget-view+json": {
       "model_id": "36e817dd989142ef8a13b4a33af58c4f",
       "version_major": 2,
       "version_minor": 0
      },
      "text/plain": [
       "5gram.bin:   0%|          | 0.00/67.3M [00:00<?, ?B/s]"
      ]
     },
     "metadata": {},
     "output_type": "display_data"
    },
    {
     "data": {
      "application/vnd.jupyter.widget-view+json": {
       "model_id": "b37465940d204073bc5862a568e3b378",
       "version_major": 2,
       "version_minor": 0
      },
      "text/plain": [
       "alphabet.json:   0%|          | 0.00/193 [00:00<?, ?B/s]"
      ]
     },
     "metadata": {},
     "output_type": "display_data"
    },
    {
     "name": "stderr",
     "output_type": "stream",
     "text": [
      "Processing with asr-africa/W2V2_Bert_BIG_C_Bemba_100hr_v1: 100%|██████████| 2351/2351 [07:18<00:00,  5.36it/s]\n"
     ]
    },
    {
     "name": "stdout",
     "output_type": "stream",
     "text": [
      "Calculated overall WER: 0.4157732224032936\n",
      "Calculated overall CER: 0.08959081029166456\n",
      "\n",
      "Average WER and CER by Source:\n",
      "           Source       WER       CER\n",
      "0       BigC_test  0.546619  0.133548\n",
      "1  csikasote_test  0.359468  0.069925\n",
      "Results saved to asr-africa_W2V2_Bert_BIG_C_Bemba_100hr_v1.csv\n"
     ]
    }
   ],
   "source": [
    "\n",
    "for model_id in model_ids:\n",
    "    original_test5hr = load_dataset(\"Beijuka/Bemba_test_5hr\")['test']\n",
    "    original_test5hr = original_test5hr.rename_column('sentence', 'transcription')\n",
    "    test5hr = original_test5hr.map(preprocess_text, batched=True)\n",
    "    processor = Wav2Vec2ProcessorWithLM.from_pretrained(model_id)\n",
    "    model = Wav2Vec2BertForCTC.from_pretrained(model_id)\n",
    "    model.to(device)\n",
    "\n",
    "    asr = pipeline(\"automatic-speech-recognition\", model=model, device=device,\n",
    "                   tokenizer=processor.tokenizer, feature_extractor=processor.feature_extractor,\n",
    "                   decoder=processor.decoder)\n",
    "\n",
    "    predictions = [asr(audio)['text'] for audio in tqdm(KeyDataset(test5hr, \"audio\"),\n",
    "                                                       total=len(test5hr),\n",
    "                                                       desc=f\"Processing with {model_id}\")]\n",
    "    wer_scores = [wer_metric.compute(predictions=[pred], references=[ref]) for pred, ref in zip(predictions, test5hr['transcription'])]\n",
    "    cer_scores = [cer_metric.compute(predictions=[pred], references=[ref]) for pred, ref in zip(predictions, test5hr['transcription'])]\n",
    "\n",
    "    results = {\n",
    "        \"Prediction\": predictions,\n",
    "        \"Reference\": test5hr['transcription'],\n",
    "        \"WER\": wer_scores,\n",
    "        \"CER\": cer_scores,\n",
    "        \"Source\": test5hr['source']\n",
    "    }\n",
    "\n",
    "    df = pd.DataFrame(results)\n",
    "    overall_wer = wer_metric.compute(predictions=df[\"Prediction\"], references=df[\"Reference\"])\n",
    "    overall_cer = cer_metric.compute(predictions=df[\"Prediction\"], references=df[\"Reference\"])\n",
    "\n",
    "    print(\"Calculated overall WER:\", overall_wer)\n",
    "    print(\"Calculated overall CER:\", overall_cer)\n",
    "\n",
    "    average_metrics_by_source = df.groupby(\"Source\").agg({\"WER\": \"mean\", \"CER\": \"mean\"}).reset_index()\n",
    "    print(\"\\nAverage WER and CER by Source:\")\n",
    "    print(average_metrics_by_source)\n",
    "\n",
    "    csv_filename = f'{model_id.replace(\"/\", \"_\")}.csv'\n",
    "    df.to_csv(csv_filename, index=False)\n",
    "    print(f\"Results saved to {csv_filename}\")"
   ]
  },
  {
   "cell_type": "code",
   "execution_count": null,
   "id": "ff05ed64-286e-47b8-a3cb-ab91d802c611",
   "metadata": {
    "id": "ff05ed64-286e-47b8-a3cb-ab91d802c611"
   },
   "outputs": [],
   "source": []
  },
  {
   "cell_type": "code",
   "execution_count": null,
   "id": "c97736be-124a-4f15-9b5b-5dde3d855db4",
   "metadata": {
    "id": "c97736be-124a-4f15-9b5b-5dde3d855db4"
   },
   "outputs": [],
   "source": []
  },
  {
   "cell_type": "code",
   "execution_count": null,
   "id": "bc9acdf5-7e52-4bb1-8db1-fdb612c22607",
   "metadata": {
    "id": "bc9acdf5-7e52-4bb1-8db1-fdb612c22607"
   },
   "outputs": [],
   "source": []
  }
 ],
 "metadata": {
  "colab": {
   "provenance": []
  },
  "kernelspec": {
   "display_name": "Python 3 (ipykernel)",
   "language": "python",
   "name": "python3"
  },
  "language_info": {
   "codemirror_mode": {
    "name": "ipython",
    "version": 3
   },
   "file_extension": ".py",
   "mimetype": "text/x-python",
   "name": "python",
   "nbconvert_exporter": "python",
   "pygments_lexer": "ipython3",
   "version": "3.10.12"
  }
 },
 "nbformat": 4,
 "nbformat_minor": 5
}
